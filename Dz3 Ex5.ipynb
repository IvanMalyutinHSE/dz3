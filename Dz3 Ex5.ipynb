{
 "cells": [
  {
   "cell_type": "code",
   "execution_count": 1,
   "metadata": {},
   "outputs": [
    {
     "name": "stdout",
     "output_type": "stream",
     "text": [
      "[[ 5.  13.5 20.  24.5 27.  27.5 26.  22.5 17.   9.5]\n",
      " [10.   9.   8.   7.   6.   5.   4.   3.   2.   1. ]]\n",
      "[[-0.01369113]\n",
      " [-0.00657174]\n",
      " [-0.00073019]\n",
      " [ 0.00383352]\n",
      " [ 0.00711939]\n",
      " [ 0.00912742]\n",
      " [ 0.00985761]\n",
      " [ 0.00930997]\n",
      " [ 0.00748448]\n",
      " [ 0.00438116]]\n"
     ]
    },
    {
     "data": {
      "text/plain": [
       "<matplotlib.image.AxesImage at 0x88ce670>"
      ]
     },
     "execution_count": 1,
     "metadata": {},
     "output_type": "execute_result"
    },
    {
     "data": {
      "image/png": "[encoded data removed]",
      "text/plain": [
       "<Figure size 432x288 with 1 Axes>"
      ]
     },
     "metadata": {
      "needs_background": "light"
     },
     "output_type": "display_data"
    }
   ],
   "source": [
    "import matplotlib.pyplot as plt\n",
    "import numpy as np\n",
    "A = np.array([[5, 27/2, 20, 49/2, 27, 55/2, 26, 45/2, 17, 19/2], [10,9,8,7,6,5,4,3,2,1]])\n",
    "print(A)\n",
    "[U,S,V] = np.linalg.svd(A)\n",
    "i = np.array([[1],[0]])\n",
    "M = np.linalg.pinv(A)\n",
    "F = M.dot(i)\n",
    "print(F)\n",
    "plt.imshow(A)"
   ]
  },
  {
   "cell_type": "code",
   "execution_count": null,
   "metadata": {},
   "outputs": [],
   "source": []
  }
 ],
 "metadata": {
  "kernelspec": {
   "display_name": "Python 3",
   "language": "python",
   "name": "python3"
  },
  "language_info": {
   "codemirror_mode": {
    "name": "ipython",
    "version": 3
   },
   "file_extension": ".py",
   "mimetype": "text/x-python",
   "name": "python",
   "nbconvert_exporter": "python",
   "pygments_lexer": "ipython3",
   "version": "3.8.3"
  }
 },
 "nbformat": 4,
 "nbformat_minor": 4
}
